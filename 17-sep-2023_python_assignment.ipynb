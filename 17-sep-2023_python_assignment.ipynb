{
 "cells": [
  {
   "cell_type": "code",
   "execution_count": 1,
   "id": "cbad7c5a",
   "metadata": {},
   "outputs": [
    {
     "name": "stdout",
     "output_type": "stream",
     "text": [
      "[3, 4, 5, 6, 7, 8]\n"
     ]
    }
   ],
   "source": [
    "#map\n",
    "#what is the purpose of the map function in python\n",
    "'''Map in python is a functiion that works as an iterator to return a result after applying a function to every item of an iterable \n",
    "(tuple,list,ets.). it is used when you want to apply a single transformation function to all the iterable elements.The iterable\n",
    "and function are passed as arguments to the map in python.'''\n",
    "\n",
    "lst=[1,2,3,4,5,6]\n",
    "k=list(map(lambda l:l+2,lst))\n",
    "print(k)"
   ]
  },
  {
   "cell_type": "code",
   "execution_count": 2,
   "id": "60ac35ea",
   "metadata": {},
   "outputs": [
    {
     "data": {
      "text/plain": [
       "[4, 9, 16, 25, 36]"
      ]
     },
     "execution_count": 2,
     "metadata": {},
     "output_type": "execute_result"
    }
   ],
   "source": [
    "#2.\n",
    "lst=[2,3,4,5,6]\n",
    "list(map(lambda l:l**2,lst))"
   ]
  },
  {
   "cell_type": "code",
   "execution_count": 3,
   "id": "57628b5a",
   "metadata": {},
   "outputs": [
    {
     "data": {
      "text/plain": [
       "\"we have to right to filter elemnet in list comprhension but in map we don't do this\""
      ]
     },
     "execution_count": 3,
     "metadata": {},
     "output_type": "execute_result"
    }
   ],
   "source": [
    "#3.How does the map function differ from a list comprehension in python, and when would yo choose one over the other?\n",
    "''' list comprehension is faster than map function '''\n",
    "'''list comprhension is easier to read than map function'''\n",
    "'''map function returns object while list comprhension returns list'''\n",
    "'''we don't use for loop in map and on the other hand we use for loop for iteration in list comprhension'''\n",
    "'''we have to right to filter elemnet in list comprhension but in map we don't do this'''\n"
   ]
  },
  {
   "cell_type": "code",
   "execution_count": 4,
   "id": "0055c908",
   "metadata": {},
   "outputs": [
    {
     "data": {
      "text/plain": [
       "['SUDHANSHU', 'ARPAN', 'GUPTA', 'TANISHQ', 'ANMOL', 'SARTHAK']"
      ]
     },
     "execution_count": 4,
     "metadata": {},
     "output_type": "execute_result"
    }
   ],
   "source": [
    "#4.\n",
    "lst=['sudhanshu','arpan','gupta','tanishq','anmol','sarthak']\n",
    "list(map(lambda l:l.upper(),lst))"
   ]
  },
  {
   "cell_type": "code",
   "execution_count": 7,
   "id": "bef11f2c",
   "metadata": {},
   "outputs": [
    {
     "data": {
      "text/plain": [
       "[9, 5, 5, 7, 5, 7]"
      ]
     },
     "execution_count": 7,
     "metadata": {},
     "output_type": "execute_result"
    }
   ],
   "source": [
    "#5.\n",
    "lst=['sudhanshu','arpan','gupta','tanishq','anmol','sarthak']\n",
    "list(map(lambda l:len(l),lst))\n",
    "list(map(len,lst))"
   ]
  },
  {
   "cell_type": "code",
   "execution_count": 13,
   "id": "19a5dd2d",
   "metadata": {},
   "outputs": [
    {
     "data": {
      "text/plain": [
       "[13, 8, 10]"
      ]
     },
     "execution_count": 13,
     "metadata": {},
     "output_type": "execute_result"
    }
   ],
   "source": [
    "#6.yes i can do this\n",
    "lst=['sudhanshu','arpan','gupta','tanishq','anmol','sarthak']\n",
    "lst2=['from','the','kills']\n",
    "\n",
    "def length_elements(l,b):\n",
    "    return len(l)+len(b)\n",
    "list(map(length_elements,lst,lst2))"
   ]
  },
  {
   "cell_type": "code",
   "execution_count": 14,
   "id": "b55d8dbf",
   "metadata": {},
   "outputs": [
    {
     "data": {
      "text/plain": [
       "[73.4, 111.2, 89.6, 132.8, 64.4, 48.2, 75.2, 82.4]"
      ]
     },
     "execution_count": 14,
     "metadata": {},
     "output_type": "execute_result"
    }
   ],
   "source": [
    "#7.\n",
    "lst1=[23,44,32,56,18,9,24,28]\n",
    "list(map(lambda l:l*(9/5)+32,lst1))"
   ]
  },
  {
   "cell_type": "code",
   "execution_count": 18,
   "id": "85e87cd1",
   "metadata": {},
   "outputs": [
    {
     "data": {
      "text/plain": [
       "[4, 2, 6, 9, 9]"
      ]
     },
     "execution_count": 18,
     "metadata": {},
     "output_type": "execute_result"
    }
   ],
   "source": [
    "#8.\n",
    "lst1=[3.568,2.43,5.891,9.32,8.78]\n",
    "list(map(lambda l:round(l),lst1))"
   ]
  },
  {
   "cell_type": "code",
   "execution_count": 20,
   "id": "6b61093e",
   "metadata": {},
   "outputs": [
    {
     "data": {
      "text/plain": [
       "720"
      ]
     },
     "execution_count": 20,
     "metadata": {},
     "output_type": "execute_result"
    }
   ],
   "source": [
    "#reduce function in python\n",
    "#what is the reduce() function in python, and what module should you import to use it? Provide an example of its basic usage\n",
    "'''Python’s reduce() is a function that implements a mathematical technique called folding or reduction. \n",
    "reduce() is useful when you need to apply a function to an iterable and reduce it to a single cumulative value. '''\n",
    "from functools import reduce\n",
    "k=[2,3,4,5,6]\n",
    "reduce(lambda a,b:a*b,k)"
   ]
  },
  {
   "cell_type": "code",
   "execution_count": 22,
   "id": "2ff5ae30",
   "metadata": {},
   "outputs": [
    {
     "data": {
      "text/plain": [
       "6720"
      ]
     },
     "execution_count": 22,
     "metadata": {},
     "output_type": "execute_result"
    }
   ],
   "source": [
    "#2.\n",
    "k=[4,5,6,7,8]\n",
    "reduce(lambda a,b:a*b,k)"
   ]
  },
  {
   "cell_type": "code",
   "execution_count": 23,
   "id": "cf0ab161",
   "metadata": {},
   "outputs": [
    {
     "data": {
      "text/plain": [
       "8"
      ]
     },
     "execution_count": 23,
     "metadata": {},
     "output_type": "execute_result"
    }
   ],
   "source": [
    "#3.\n",
    "k=[5,4,8,2,3,0]\n",
    "reduce(lambda a,b:a if a>b else b,k)"
   ]
  },
  {
   "cell_type": "code",
   "execution_count": 24,
   "id": "e6a5d7cb",
   "metadata": {},
   "outputs": [
    {
     "data": {
      "text/plain": [
       "'arpangupta tanishqtyagi atharvmehta'"
      ]
     },
     "execution_count": 24,
     "metadata": {},
     "output_type": "execute_result"
    }
   ],
   "source": [
    "#4.\n",
    "lst=['arpan','gupta',' ','tanishq','tyagi',' ','atharv','mehta']\n",
    "reduce(lambda a,b:a+b,lst)\n"
   ]
  },
  {
   "cell_type": "code",
   "execution_count": 25,
   "id": "1e4ba63b",
   "metadata": {},
   "outputs": [
    {
     "data": {
      "text/plain": [
       "120"
      ]
     },
     "execution_count": 25,
     "metadata": {},
     "output_type": "execute_result"
    }
   ],
   "source": [
    "#5.factorial of a number eg 5=120\n",
    "i=5\n",
    "reduce(lambda a,b: a*b,range(1,i+1))"
   ]
  },
  {
   "cell_type": "code",
   "execution_count": 26,
   "id": "a75e8dc0",
   "metadata": {},
   "outputs": [],
   "source": [
    "#6.create a python program that uses reduce() to find the gcd of a list of numbers\n",
    "a=[24,36,50]\n"
   ]
  },
  {
   "cell_type": "code",
   "execution_count": 29,
   "id": "c2b2084f",
   "metadata": {},
   "outputs": [
    {
     "data": {
      "text/plain": [
       "6"
      ]
     },
     "execution_count": 29,
     "metadata": {},
     "output_type": "execute_result"
    }
   ],
   "source": [
    "#7.\n",
    "k=123\n",
    "reduce(lambda a,b:int(a)+int(b),list(str(k)))"
   ]
  },
  {
   "cell_type": "code",
   "execution_count": 33,
   "id": "fc6aa702",
   "metadata": {},
   "outputs": [
    {
     "data": {
      "text/plain": [
       "[4, 6, 76, 32, 2, 4]"
      ]
     },
     "execution_count": 33,
     "metadata": {},
     "output_type": "execute_result"
    }
   ],
   "source": [
    "#filter function in python\n",
    "'''Python's filter() is a built-in function that allows you to process an iterable and extract those items \n",
    "that satisfy a given condition. This process is commonly known as a filtering operation.'''\n",
    "l=[3,4,5,6,76,3,32,2,4,5,5,5]\n",
    "list(filter(lambda a:a%2==0,l))"
   ]
  },
  {
   "cell_type": "code",
   "execution_count": 34,
   "id": "babc7010",
   "metadata": {},
   "outputs": [
    {
     "data": {
      "text/plain": [
       "[4, 6, 76, 32, 2, 4]"
      ]
     },
     "execution_count": 34,
     "metadata": {},
     "output_type": "execute_result"
    }
   ],
   "source": [
    "#2.\n",
    "l=[3,4,5,6,76,3,32,2,4,5,5,5]\n",
    "list(filter(lambda a:a%2==0,l))"
   ]
  },
  {
   "cell_type": "code",
   "execution_count": 38,
   "id": "b722191f",
   "metadata": {},
   "outputs": [
    {
     "data": {
      "text/plain": [
       "['arpan', 'ayush', 'aman']"
      ]
     },
     "execution_count": 38,
     "metadata": {},
     "output_type": "execute_result"
    }
   ],
   "source": [
    "#3.\n",
    "lst=['arpan','gupta','ayush','raghav','aman','shruti','narendra']\n",
    "list(filter(lambda a: a[0]=='a',lst))"
   ]
  },
  {
   "cell_type": "code",
   "execution_count": 56,
   "id": "442d12e7",
   "metadata": {},
   "outputs": [
    {
     "data": {
      "text/plain": [
       "[2, 3, 5]"
      ]
     },
     "execution_count": 56,
     "metadata": {},
     "output_type": "execute_result"
    }
   ],
   "source": [
    "#5.\n",
    "lst1=[None,2,3,None,5]\n",
    "list(filter(lambda a:a!=None,lst1))"
   ]
  },
  {
   "cell_type": "code",
   "execution_count": 59,
   "id": "89d7f066",
   "metadata": {},
   "outputs": [
    {
     "data": {
      "text/plain": [
       "['lamborgni', 'thar', 'jaguar', 'mercedez', 'audi']"
      ]
     },
     "execution_count": 59,
     "metadata": {},
     "output_type": "execute_result"
    }
   ],
   "source": [
    "#6.\n",
    "n=3\n",
    "lst2=['lamborgni','thar','jaguar','mercedez','bmw','audi']\n",
    "list(filter(lambda a:len(a)>3,lst2))"
   ]
  },
  {
   "cell_type": "code",
   "execution_count": 60,
   "id": "aad9e796",
   "metadata": {},
   "outputs": [
    {
     "data": {
      "text/plain": [
       "[250, 450, 1000]"
      ]
     },
     "execution_count": 60,
     "metadata": {},
     "output_type": "execute_result"
    }
   ],
   "source": [
    "#7.\n",
    "lst3=[250,450,100,30,50,1000]\n",
    "list(filter(lambda a:a>100,lst3))"
   ]
  },
  {
   "cell_type": "code",
   "execution_count": 61,
   "id": "875b1682",
   "metadata": {},
   "outputs": [
    {
     "data": {
      "text/plain": [
       "'its used when a simple expression means in simple logic in single line'"
      ]
     },
     "execution_count": 61,
     "metadata": {},
     "output_type": "execute_result"
    }
   ],
   "source": [
    "#lambda functions\n",
    "#what is lambda functions in python ,a nd when are they typically used?\n",
    "'''lambda function is a anonymous function means function without names its the single line function\n",
    "syntax is lambda arguments: conditions\n",
    "'''\n",
    "'''its used when a simple expression means in simple logic in single line'''\n",
    "\n"
   ]
  },
  {
   "cell_type": "code",
   "execution_count": 62,
   "id": "75cab846",
   "metadata": {},
   "outputs": [
    {
     "name": "stdout",
     "output_type": "stream",
     "text": [
      "Original list of tuples:\n",
      "[('English', 88), ('Science', 90), ('Maths', 97), ('Social sciences', 82)]\n",
      "\n",
      "Sorting the List of Tuples:\n",
      "[('Social sciences', 82), ('English', 88), ('Science', 90), ('Maths', 97)]\n"
     ]
    }
   ],
   "source": [
    "#2.\n",
    "subject_marks = [('English', 88), ('Science', 90), ('Maths', 97), ('Social sciences', 82)]\n",
    "print(\"Original list of tuples:\")\n",
    "print(subject_marks)\n",
    "subject_marks.sort(key = lambda x: x[1])\n",
    "print(\"\\nSorting the List of Tuples:\")\n",
    "print(subject_marks)"
   ]
  },
  {
   "cell_type": "code",
   "execution_count": 1,
   "id": "5ed2d698",
   "metadata": {},
   "outputs": [
    {
     "name": "stdout",
     "output_type": "stream",
     "text": [
      "HI, I AM CREATED BY A FUNCTION     PASSED AS AN ARGUMENT.\n",
      "hi, i am created by a function     passed as an argument.\n"
     ]
    }
   ],
   "source": [
    "#3.what is high order function explain with example\n",
    "\n",
    "'''A function is called Higher Order Function if it contains other functions as a parameter or returns a function as an \n",
    "output i.e, the functions that operate with another function are known as Higher order Functions. \n",
    "It is worth knowing that this higher order function is applicable for functions and methods as well that takes \n",
    "functions as a parameter or returns a function as a result. \n",
    "Python too supports the concepts of higher order functions.'''\n",
    "\n",
    "def shout(text): \n",
    "    return text.upper() \n",
    "    \n",
    "def whisper(text): \n",
    "    return text.lower() \n",
    "    \n",
    "def greet(func): \n",
    "    # storing the function in a variable \n",
    "    greeting = func(\"Hi, I am created by a function \\\n",
    "    passed as an argument.\") \n",
    "    print(greeting)  \n",
    "    \n",
    "greet(shout) \n",
    "greet(whisper)"
   ]
  },
  {
   "cell_type": "code",
   "execution_count": 2,
   "id": "2c3059dd",
   "metadata": {},
   "outputs": [
    {
     "name": "stdout",
     "output_type": "stream",
     "text": [
      "25\n"
     ]
    }
   ],
   "source": [
    "#3 example 2 in this example its returning function\n",
    "def create_adder(x): \n",
    "    def adder(y): \n",
    "        return x + y \n",
    "    \n",
    "    return adder \n",
    "    \n",
    "add_15 = create_adder(15) \n",
    "    \n",
    "print(add_15(10))"
   ]
  },
  {
   "cell_type": "code",
   "execution_count": 5,
   "id": "3fa55c49",
   "metadata": {},
   "outputs": [
    {
     "name": "stdout",
     "output_type": "stream",
     "text": [
      "720\n"
     ]
    }
   ],
   "source": [
    "#4.\n",
    "from functools import reduce\n",
    "def func1(lst,func):\n",
    "    return reduce(func,lst)\n",
    "def func2(a,b):\n",
    "    return a*b\n",
    "print(func1([2,3,4,5,6],func2))"
   ]
  },
  {
   "cell_type": "code",
   "execution_count": 15,
   "id": "822be05c",
   "metadata": {},
   "outputs": [
    {
     "name": "stdout",
     "output_type": "stream",
     "text": [
      "3\n",
      "3\n",
      "5\n",
      "3\n",
      "10\n",
      "0\n",
      "2\n",
      "0\n",
      "3\n",
      "4\n",
      "4\n"
     ]
    }
   ],
   "source": [
    "#built in function\n",
    "#1.\n",
    "'''len()-This function is used to determine len of a string,list,set,tuple,dictionary'''\n",
    "print(len([1,2,3]))\n",
    "print(len(set([1,2,3])))\n",
    "print(len((1,2,3,4,5)))\n",
    "print(len({1:2,3:4,4:5}))\n",
    "print(len('arpangupta'))\n",
    "'''min()-function is used to determmine minimum value in list,set,tuple'''\n",
    "print(min(1,2,3,0))\n",
    "print(min({2,3,4}))\n",
    "print(min((1,2,3,4,0)))\n",
    "'''max()-function is used to determmine maximum value in list,set,tuple'''\n",
    "print(max(1,2,3,0))\n",
    "print(max({2,3,4}))\n",
    "print(max((1,2,3,4,0)))"
   ]
  },
  {
   "cell_type": "code",
   "execution_count": 17,
   "id": "a874bb63",
   "metadata": {},
   "outputs": [
    {
     "data": {
      "text/plain": [
       "[3, 4, 5, 4, 7, 6]"
      ]
     },
     "execution_count": 17,
     "metadata": {},
     "output_type": "execute_result"
    }
   ],
   "source": [
    "#map function to apply each element to a list\n",
    "#2.\n",
    "lst=[1,2,3,2,5,4]\n",
    "list(map(lambda l:l+2,lst))"
   ]
  },
  {
   "cell_type": "code",
   "execution_count": 18,
   "id": "1c2f176b",
   "metadata": {},
   "outputs": [
    {
     "data": {
      "text/plain": [
       "[2, 4, 8, 6]"
      ]
     },
     "execution_count": 18,
     "metadata": {},
     "output_type": "execute_result"
    }
   ],
   "source": [
    "#what is filter function in python and how would you use it\n",
    "#3.\n",
    "'''filter function is used to filter elements in list based on certain conditions'''\n",
    "lst=[2,3,4,8,9,6]\n",
    "list(filter(lambda a: a%2==0,lst))"
   ]
  },
  {
   "cell_type": "code",
   "execution_count": 19,
   "id": "85b0a983",
   "metadata": {},
   "outputs": [
    {
     "data": {
      "text/plain": [
       "720"
      ]
     },
     "execution_count": 19,
     "metadata": {},
     "output_type": "execute_result"
    }
   ],
   "source": [
    "#4.find the product of element in list using reduce function\n",
    "lst=[2,3,4,5,6]\n",
    "reduce(lambda a,b:a*b,lst)"
   ]
  },
  {
   "cell_type": "code",
   "execution_count": 20,
   "id": "dafb1c50",
   "metadata": {},
   "outputs": [
    {
     "name": "stdout",
     "output_type": "stream",
     "text": [
      "IN this function we are expaling the concept of doctstring\n"
     ]
    }
   ],
   "source": [
    "#Function documentation and best practices\n",
    "#1. doctstring in python is used to write comments in the function. we declare doctstring with the help of triple codes ''' ajflkjlkf'''\n",
    "# and we access using __doc__ .\n",
    "def doc_func():\n",
    "    '''IN this function we are expaling the concept of doctstring'''\n",
    "print(doc_func.__doc__)"
   ]
  },
  {
   "cell_type": "code",
   "execution_count": 21,
   "id": "e4629732",
   "metadata": {},
   "outputs": [],
   "source": [
    "#"
   ]
  },
  {
   "cell_type": "code",
   "execution_count": 24,
   "id": "f308e760",
   "metadata": {},
   "outputs": [
    {
     "name": "stdout",
     "output_type": "stream",
     "text": [
      "5\n",
      "12\n"
     ]
    }
   ],
   "source": [
    "#Basics of functions\n",
    "'''What is a function in Python, and why is it used?\n",
    "How do you define a function in Python? Provide an example.\n",
    "Explain the difference between a function definition and a function call.\n",
    "Write a Python program that defines a function to calculate the sum of two numbers and then calls the function.\n",
    "What is a function signature, and what information does it typically include?\n",
    "Create a Python function that takes two arguments and returns their product.\n",
    "'''\n",
    "#1.\n",
    "'''function in python is a block of code used to write certain business logic and its used for reusability and easy readable purpose'''\n",
    "#2.\n",
    "'''By using def keyword we defile in functtion in python. '''\n",
    "def a():\n",
    "    pass\n",
    "a()\n",
    "#3.\n",
    "'''we write code or logic inside function in function defination and we call the function in function call'''\n",
    "#4.\n",
    "def sum_of_two(a,b):\n",
    "    return a+b\n",
    "print(sum_of_two(2,3))\n",
    "#5 function signature is simply a input from the user and its apply that input in certain logic and return some result\n",
    "'''In this we can include list,tuple,set,int,float,boolean,string,dictionary and function itself'''\n",
    "#6.\n",
    "def product(a,b):\n",
    "    return a*b\n",
    "print(product(3,4))"
   ]
  },
  {
   "cell_type": "code",
   "execution_count": 52,
   "id": "788986e7",
   "metadata": {},
   "outputs": [
    {
     "name": "stdout",
     "output_type": "stream",
     "text": [
      "car has 5 wheels and bike has4 wheels and truck has 8 wheels\n",
      "a is  5  b is  8  c is  6  d is  9\n"
     ]
    },
    {
     "data": {
      "text/plain": [
       "15"
      ]
     },
     "execution_count": 52,
     "metadata": {},
     "output_type": "execute_result"
    }
   ],
   "source": [
    "#function parameters and arguments\n",
    "'''Function Parameters and Arguments:\n",
    "\n",
    "Explain the concepts of formal parameters and actual arguments in Python functions.\n",
    "Write a Python program that defines a function with default argument values.\n",
    "How do you use keyword arguments in Python function calls? Provide an example.\n",
    "Create a Python function that accepts a variable number of arguments and calculates their sum.\n",
    "What is the purpose of the `*args` and `**kwargs` syntax in function parameter lists?\n",
    "'''\n",
    "\n",
    "#1.Formal Parameters are the parameters which are specified during the definition of the function. \n",
    "'''Actual Parameters are the parameters which are specified during the function call. Actual Parameters are actually of four types :\n",
    "\n",
    "    Positional Parameters\n",
    "    Keyword Parameters\n",
    "    Default Parameters\n",
    "    Variable length Parameters'''\n",
    "#2.\n",
    "def wheels(a=2,b=4,c=0):\n",
    "    print('car has {1} wheels and bike has{0} wheels and truck has {2} wheels'.format(a,b,c))\n",
    "wheels(4,5,8)\n",
    "#3.\n",
    "def keyword(a,b,c,d):\n",
    "    print('a is ',a,' b is ',b,' c is ',c,' d is ',d)\n",
    "keyword(a=5,c=6,b=8,d=9)\n",
    "#4.\n",
    "def k(*args):\n",
    "    return sum(args)\n",
    "k(1,2,3,4,5)\n",
    "#5.\n",
    "'''*args takes any no of arguments and return tuples'''\n",
    "'''*kargs takes argument in key and value pairs'''"
   ]
  },
  {
   "cell_type": "code",
   "execution_count": 53,
   "id": "b796e633",
   "metadata": {},
   "outputs": [
    {
     "data": {
      "text/plain": [
       "(1, 2, 3, 4, 5)"
      ]
     },
     "execution_count": 53,
     "metadata": {},
     "output_type": "execute_result"
    }
   ],
   "source": [
    "#*args return tuples\n",
    "def k(*args):\n",
    "    return args\n",
    "k(1,2,3,4,5)"
   ]
  },
  {
   "cell_type": "code",
   "execution_count": 80,
   "id": "b412a5b7",
   "metadata": {},
   "outputs": [
    {
     "name": "stdout",
     "output_type": "stream",
     "text": [
      "hello world\n",
      "120\n",
      "5\n"
     ]
    }
   ],
   "source": [
    "#return values and scoping\n",
    "'''Return Values and Scoping:\n",
    "\n",
    "Describe the role of the `return` statement in Python functions and provide examples.\n",
    "Explain the concept of variable scope in Python, including local and global variables.\n",
    "Write a Python program that demonstrates the use of global variables within functions.\n",
    "Create a Python function that calculates the factorial of a number and returns it.\n",
    "How can you access variables defined outside a function from within the function?\n",
    "'''\n",
    "\n",
    "#1.return statement is used to return output of function \n",
    "def print1():\n",
    "    return 'hello world'\n",
    "print(print1())\n",
    "#2.there are two variable scope global and local variable scope is used under the block of code means function and global is\n",
    "'''is used under the whole program. local precedence is higher than global variables'''\n",
    "#3.\n",
    "class pro:\n",
    "    a=12\n",
    "    def pro1(self):\n",
    "        b=12\n",
    "        return self.a+b\n",
    "c=pro()\n",
    "c.pro1()\n",
    "#4.\n",
    "def factorial(n):\n",
    "    num=1\n",
    "    for i in range(1,n+1):\n",
    "        num=num*i\n",
    "    return num\n",
    "print(factorial(5))\n",
    "#5. by self keyword we can access outside varibales inside function\n",
    "class var:\n",
    "    a=5\n",
    "    def n(self):\n",
    "        return self.a\n",
    "k=var()\n",
    "print(k.n())"
   ]
  },
  {
   "cell_type": "code",
   "execution_count": 78,
   "id": "6abbdc3a",
   "metadata": {},
   "outputs": [
    {
     "name": "stdout",
     "output_type": "stream",
     "text": [
      "120\n"
     ]
    }
   ],
   "source": [
    "'''If else :\n",
    "\n",
    "\n",
    "Write a Python program to check if a number is positive, negative, or zero using an if-else statement.\n",
    "Create a Python program that checks if a given number is even or odd using an if-else statement.\n",
    "How can you use nested if-else statements in Python, and provide an example?\n",
    "Write a Python program to determine the largest of three numbers using if-else.\n",
    "Write a Python program that calculates the absolute value of a number using if-else.\n",
    "Create a Python program that checks if a given character is a vowel or consonant using if-else.\n",
    "Write a Python program to determine if a user is eligible to vote based on their age using if-else.\n",
    "Create a Python program that calculates the discount amount based on the purchase amount using if-else.\n",
    "Write a Python program to check if a number is within a specified range using if-else.\n",
    "Create a Python program that determines the grade of a student based on their score using if-else.\n",
    "Write a Python program to check if a string is empty or not using if-else.\n",
    "Create a Python program that identifies the type of a triangle (e.g., equilateral, isosceles, or scalene) based on input values using if-else.\n",
    "Write a Python program to determine the day of the week based on a user-provided number using if-else.\n",
    "Create a Python program that checks if a given year is a leap year using both if-else and a function.\n",
    "How do you use the \"assert\" statement in Python to add debugging checks within if-else blocks?\n",
    "Create a Python program that determines the eligibility of a person for a senior citizen discount based on age using if-else.\n",
    "Write a Python program to categorize a given character as uppercase, lowercase, or neither using if-else.\n",
    "Write a Python program to determine the roots of a quadratic equation using if-else.\n",
    "Create a Python program that checks if a given year is a century year or not using if-else.\n",
    "Write a Python program to determine if a given number is a perfect square using if-else.\n",
    "Explain the purpose of the \"continue\" and \"break\" statements within if-else loops.\n",
    "Create a Python program that calculates the BMI (Body Mass Index) of a person based on their weight and height using if-else.\n",
    "How can you use the \"filter()\" function with if-else statements to filter elements from a list?\n",
    "Write a Python program to determine if a given number is prime or not using if-else.\n",
    "'''\n"
   ]
  },
  {
   "cell_type": "code",
   "execution_count": 111,
   "id": "43f3d181",
   "metadata": {},
   "outputs": [
    {
     "name": "stdout",
     "output_type": "stream",
     "text": [
      "its positive number\n",
      "44 is even number\n",
      "its greater than 22 and also a even number\n",
      "b is bigger\n",
      "5\n",
      "yes its vowel\n",
      "he can vote\n",
      "yes its in specified range\n",
      "A\n",
      "True\n",
      "its isoceles triangle\n",
      "its a leap year\n",
      "The value of a / b is : \n"
     ]
    },
    {
     "ename": "AssertionError",
     "evalue": "",
     "output_type": "error",
     "traceback": [
      "\u001b[1;31m---------------------------------------------------------------------------\u001b[0m",
      "\u001b[1;31mAssertionError\u001b[0m                            Traceback (most recent call last)",
      "Cell \u001b[1;32mIn[111], line 94\u001b[0m\n\u001b[0;32m     92\u001b[0m \u001b[38;5;66;03m#14. using assert to check for 0\u001b[39;00m\n\u001b[0;32m     93\u001b[0m \u001b[38;5;28mprint\u001b[39m(\u001b[38;5;124m\"\u001b[39m\u001b[38;5;124mThe value of a / b is : \u001b[39m\u001b[38;5;124m\"\u001b[39m)\n\u001b[1;32m---> 94\u001b[0m \u001b[38;5;28;01massert\u001b[39;00m b \u001b[38;5;241m!=\u001b[39m \u001b[38;5;241m0\u001b[39m\n\u001b[0;32m     95\u001b[0m \u001b[38;5;28mprint\u001b[39m(a \u001b[38;5;241m/\u001b[39m b)\n\u001b[0;32m     97\u001b[0m \u001b[38;5;66;03m#15.\u001b[39;00m\n",
      "\u001b[1;31mAssertionError\u001b[0m: "
     ]
    }
   ],
   "source": [
    "#1.\n",
    "a=1\n",
    "if a>0:\n",
    "    print('its positive number')\n",
    "elif a==0:\n",
    "    print('its equal to zero')\n",
    "else:\n",
    "    print('its negative number')\n",
    "#2.\n",
    "b=44\n",
    "if b%2==0:\n",
    "    print(f'{b} is even number')\n",
    "else:\n",
    "    print(f'{b} is odd number')\n",
    "#3.\n",
    "c=44\n",
    "if c>22:\n",
    "    if c%2==0:\n",
    "            print('its greater than 22 and also a even number')\n",
    "    else:\n",
    "            print('its not a even number')\n",
    "else:\n",
    "    print('its not greater than 22')\n",
    "#4.\n",
    "a,b,c=22,25,24\n",
    "if a>b and a>c:\n",
    "    print('a is bigger')\n",
    "elif b>a and b>c:\n",
    "    print('b is bigger')\n",
    "else:\n",
    "    print('c is bigger')\n",
    "#5.\n",
    "n=-5\n",
    "if n<0:\n",
    "    print(-n)\n",
    "else:\n",
    "    print(n)\n",
    "#6.\n",
    "ch='a'\n",
    "if ch in ['a','e','i','o','u']:\n",
    "    print('yes its vowel')\n",
    "else:\n",
    "    print('no its not a vowel')\n",
    "#7.\n",
    "user_age=18\n",
    "if user_age>=18:\n",
    "    print('he can vote')\n",
    "else:\n",
    "    print(\"he can't vote\")\n",
    "#8.\n",
    "num=23\n",
    "if num>22 and num<50:\n",
    "    print('yes its in specified range')\n",
    "else:\n",
    "    print('no its not in specified range')\n",
    "#9.\n",
    "score=95\n",
    "if score>=90 and score<=100:\n",
    "    print('A')\n",
    "elif score>=70 and score<=89:\n",
    "    print('B')\n",
    "elif score>=50 and score<=70:\n",
    "    print('C')\n",
    "else:\n",
    "    print('D')\n",
    "#10.\n",
    "str1=''\n",
    "if len(str1)==0:\n",
    "    print(True)\n",
    "else:\n",
    "    print(False)\n",
    "#11.\n",
    "a,b,c=2,3,2\n",
    "if a==b and a==c and b==c:\n",
    "    print('its equilater triangle')\n",
    "elif a==c or a==b or b==c:\n",
    "    print('its isoceles triangle')\n",
    "else:\n",
    "    print('its scalen triangle')\n",
    "#12.\n",
    "year=1992\n",
    "if year%4==0:\n",
    "    print('its a leap year')\n",
    "else:\n",
    "    print('its not a leap year')\n",
    "#13.'assert' keywrod is used in place of if statement and if condition is false then its occurs assertion error. its used to hand\n",
    "'''handle long code'''\n",
    "# initializing number\n",
    "a = 4\n",
    "b = 0\n",
    "\n",
    "#14. using assert to check for 0\n",
    "print(\"The value of a / b is : \")\n",
    "assert b != 0\n",
    "print(a / b)\n"
   ]
  },
  {
   "cell_type": "code",
   "execution_count": 114,
   "id": "e7bbe297",
   "metadata": {},
   "outputs": [
    {
     "name": "stdout",
     "output_type": "stream",
     "text": [
      "he is a senior citizen person\n",
      "its not a letter\n"
     ]
    }
   ],
   "source": [
    "#15.\n",
    "age=60\n",
    "if age>50:\n",
    "    print('he is a senior citizen person')\n",
    "else:\n",
    "    print('he is not a senior citizen person')\n",
    "    \n",
    "#16.\n",
    "n='_'\n",
    "if n.isalpha():\n",
    "    if n.isupper():\n",
    "        print(True,'is a letter of upper case')\n",
    "    else:\n",
    "        print('its a lower case')\n",
    "else:\n",
    "    print('its not a letter')\n"
   ]
  },
  {
   "cell_type": "code",
   "execution_count": 115,
   "id": "36e98717",
   "metadata": {},
   "outputs": [
    {
     "name": "stdout",
     "output_type": "stream",
     "text": [
      "The solution are (-3+0j) and (-2+0j)\n"
     ]
    }
   ],
   "source": [
    "#17.\n",
    "# Solve the quadratic equation ax**2 + bx + c = 0\n",
    "\n",
    "# import complex math module\n",
    "import cmath\n",
    "\n",
    "a = 1\n",
    "b = 5\n",
    "c = 6\n",
    "\n",
    "# calculate the discriminant\n",
    "d = (b**2) - (4*a*c)\n",
    "\n",
    "# find two solutions\n",
    "sol1 = (-b-cmath.sqrt(d))/(2*a)\n",
    "sol2 = (-b+cmath.sqrt(d))/(2*a)\n",
    "print('The solution are {0} and {1}'.format(sol1,sol2))\n",
    "s"
   ]
  },
  {
   "cell_type": "code",
   "execution_count": 117,
   "id": "823cb91e",
   "metadata": {},
   "outputs": [
    {
     "name": "stdout",
     "output_type": "stream",
     "text": [
      "its a century year\n"
     ]
    }
   ],
   "source": [
    "#18.\n",
    "year=2000\n",
    "if year%400==0:\n",
    "    print('its a century year')\n",
    "else:\n",
    "    print('its not a century year')"
   ]
  },
  {
   "cell_type": "code",
   "execution_count": 126,
   "id": "0666507a",
   "metadata": {},
   "outputs": [
    {
     "name": "stdout",
     "output_type": "stream",
     "text": [
      "its not a perfect square\n"
     ]
    }
   ],
   "source": [
    "#19.\n",
    "import math\n",
    "perfect_square=26\n",
    "c=math.sqrt(perfect_square)\n",
    "if perfect_square%int(c)==0:\n",
    "    print('its a perfect square')\n",
    "else:\n",
    "    print('its not a perfect square')"
   ]
  },
  {
   "cell_type": "code",
   "execution_count": 130,
   "id": "3e29768c",
   "metadata": {},
   "outputs": [
    {
     "name": "stdout",
     "output_type": "stream",
     "text": [
      "1\n"
     ]
    },
    {
     "data": {
      "text/plain": [
       "[2, 3, 4]"
      ]
     },
     "execution_count": 130,
     "metadata": {},
     "output_type": "execute_result"
    }
   ],
   "source": [
    "#20.explain the concept the break and continue\n",
    "'''break statement is used for break the execution of a  loop and continue is used for break the current execution if certain condition hits '''\n",
    "#21.\n",
    "height=6\n",
    "weight=55\n",
    "bmi=weight//height**2\n",
    "print(bmi)\n",
    "#22.\n",
    "'''filter statement is used for filtering the elements from the list'''\n",
    "lst=[2,3,4]\n",
    "list(filter(lambda l: 2 if l==3 else 1,lst))"
   ]
  },
  {
   "cell_type": "code",
   "execution_count": 135,
   "id": "087a98e3",
   "metadata": {},
   "outputs": [
    {
     "name": "stdout",
     "output_type": "stream",
     "text": [
      "its a prime number\n"
     ]
    }
   ],
   "source": [
    "#22.\n",
    "n=23\n",
    "for i in range(2,n):\n",
    "    if n%i==0:\n",
    "        count=1\n",
    "        break\n",
    "    else:\n",
    "        count=0\n",
    "if count==0:\n",
    "    print('its a prime number')\n",
    "else:\n",
    "    print('its not a prime number')"
   ]
  },
  {
   "cell_type": "code",
   "execution_count": 136,
   "id": "626840d2",
   "metadata": {},
   "outputs": [
    {
     "data": {
      "text/plain": [
       "'For Loop :-\\n\\nWrite a Python program to print numbers from 1 to 10 using a for loop.\\nExplain the difference between a for loop and a while loop in Python.\\nWrite a Python program to calculate the sum of all numbers from 1 to 100 using a for loop.\\nHow do you iterate through a list using a for loop in Python?\\nWrite a Python program to find the product of all elements in a list using a for loop.\\nCreate a Python program that prints all even numbers from 1 to 20 using a for loop.\\nWrite a Python program that calculates the factorial of a number using a for loop.\\nHow can you iterate through the characters of a string using a for loop in Python?\\nWrite a Python program to find the largest number in a list using a for loop.\\nCreate a Python program that prints the Fibonacci sequence up to a specified limit using a for loop.\\nWrite a Python program to count the number of vowels in a given string using a for loop.\\nCreate a Python program that generates a multiplication table for a given number using a for loop.\\nWrite a Python program to reverse a list using a for loop.\\nWrite a Python program to find the common elements between two lists using a for loop.\\nExplain how to use a for loop to iterate through the keys and values of a dictionary in Python.\\nWrite a Python program to find the GCD (Greatest Common Divisor) of two numbers using a for loop.\\nCreate a Python program that checks if a string is a palindrome using a for loop.\\nWrite a Python program to remove duplicates from a list using a for loop.\\nCreate a Python program that counts the number of words in a sentence using a for loop.\\nWrite a Python program to find the sum of all odd numbers from 1 to 50 using a for loop.\\nWrite a Python program that checks if a given year is a leap year using a for loop.\\nCreate a Python program that calculates the square root of a number using a for loop.\\nWrite a Python program to find the LCM (Least Common Multiple) of two numbers using a for loop.\\n'"
      ]
     },
     "execution_count": 136,
     "metadata": {},
     "output_type": "execute_result"
    }
   ],
   "source": [
    "'''For Loop :-\n",
    "\n",
    "Write a Python program to print numbers from 1 to 10 using a for loop.\n",
    "Explain the difference between a for loop and a while loop in Python.\n",
    "Write a Python program to calculate the sum of all numbers from 1 to 100 using a for loop.\n",
    "How do you iterate through a list using a for loop in Python?\n",
    "Write a Python program to find the product of all elements in a list using a for loop.\n",
    "Create a Python program that prints all even numbers from 1 to 20 using a for loop.\n",
    "Write a Python program that calculates the factorial of a number using a for loop.\n",
    "How can you iterate through the characters of a string using a for loop in Python?\n",
    "Write a Python program to find the largest number in a list using a for loop.\n",
    "Create a Python program that prints the Fibonacci sequence up to a specified limit using a for loop.\n",
    "Write a Python program to count the number of vowels in a given string using a for loop.\n",
    "Create a Python program that generates a multiplication table for a given number using a for loop.\n",
    "Write a Python program to reverse a list using a for loop.\n",
    "Write a Python program to find the common elements between two lists using a for loop.\n",
    "Explain how to use a for loop to iterate through the keys and values of a dictionary in Python.\n",
    "Write a Python program to find the GCD (Greatest Common Divisor) of two numbers using a for loop.\n",
    "Create a Python program that checks if a string is a palindrome using a for loop.\n",
    "Write a Python program to remove duplicates from a list using a for loop.\n",
    "Create a Python program that counts the number of words in a sentence using a for loop.\n",
    "Write a Python program to find the sum of all odd numbers from 1 to 50 using a for loop.\n",
    "Write a Python program that checks if a given year is a leap year using a for loop.\n",
    "Create a Python program that calculates the square root of a number using a for loop.\n",
    "Write a Python program to find the LCM (Least Common Multiple) of two numbers using a for loop.\n",
    "'''\n"
   ]
  },
  {
   "cell_type": "code",
   "execution_count": 60,
   "id": "c129458e",
   "metadata": {},
   "outputs": [
    {
     "name": "stdout",
     "output_type": "stream",
     "text": [
      "[1, 2, 3, 4, 5, 6, 7, 8, 9, 10]\n",
      "5050\n",
      "[4, 20, 120, 360, 2880]\n",
      "2880\n",
      "[2, 4, 6, 8, 10, 12, 14, 16, 18, 20]\n",
      "120\n",
      "['a', 'r', 'p', 'a', 'n']\n",
      "9\n",
      "2\n",
      "3\n",
      "5\n",
      "8\n",
      "13\n",
      "9\n",
      "3 X 1 = 3\n",
      "3 X 2 = 6\n",
      "3 X 3 = 9\n",
      "3 X 4 = 12\n",
      "3 X 5 = 15\n",
      "3 X 6 = 18\n",
      "3 X 7 = 21\n",
      "3 X 8 = 24\n",
      "3 X 9 = 27\n",
      "3 X 10 = 30\n",
      "5\n",
      "4\n",
      "3\n",
      "2\n",
      "1\n",
      "1\n",
      "2\n",
      "3\n",
      "2\n",
      "4\n",
      "6\n",
      "21\n",
      "its a polindrome string\n",
      "[3, 6, 4]\n",
      "5\n",
      "625\n",
      "5\n",
      "The L.C.M. is 216\n"
     ]
    }
   ],
   "source": [
    "#1.\n",
    "print([i for i in range(1,11)])\n",
    "#2.for loop is used when we know how much time we need to iterate but in while loop we dont know about iteration\n",
    "#3.\n",
    "print(sum([i for i in range(1,101)]))\n",
    "#4.\n",
    "curr=1\n",
    "lst=[4,5,6,3,8]\n",
    "print([(curr:=curr*i)  for i in lst])\n",
    "print(curr)\n",
    "#5.\n",
    "print([i for i in range(1,21) if i%2==0])\n",
    "#6.factorial of a number\n",
    "n=1\n",
    "k=5\n",
    "[(n:=n*i) for i in range(1,k+1)]\n",
    "print(n)\n",
    "#7.\n",
    "l='arpan'\n",
    "print([i for i in l])\n",
    "#8.\n",
    "lst=[2,1,8,3,4,9,7]\n",
    "max1=0\n",
    "for i in lst:\n",
    "    if i>max1:\n",
    "        max1=i\n",
    "print(max1)\n",
    "#9. fibonaacii series\n",
    "n=10\n",
    "a=1\n",
    "b=1\n",
    "i=0\n",
    "while a<=n:\n",
    "    a=a+b\n",
    "    print(a)\n",
    "    b=a-b\n",
    "#10. \n",
    "s='aroeiouspeacock'\n",
    "count=0\n",
    "for i in s:\n",
    "    if i in ['a','e','i','o','u']:\n",
    "        count=count+1\n",
    "print(count)\n",
    "#11.\n",
    "multiplication=3\n",
    "for i in range(1,11):\n",
    "    print(multiplication,'X',i,'=',multiplication*i)\n",
    "\n",
    "#12.reverse a list using a for loop\n",
    "lst1=[1,2,3,4,5]\n",
    "for i in range(len(lst1)-1,-1,-1):\n",
    "    print(lst1[i])\n",
    "#13.common elements between a two list using a for loop\n",
    "lst1=[1,2,3,4]\n",
    "lst2=[3,2,1,5]\n",
    "lst1.sort()\n",
    "lst2.sort()\n",
    "for i in range(len(lst1)):\n",
    "    if lst1[i]==lst2[i]:\n",
    "        print(lst1[i])\n",
    "#14.how to use a loop to iterate over keys and values in a dictionary\n",
    "dic1={1:2,3:4,5:6}\n",
    "for i in dic1.values():\n",
    "    print(i)\n",
    "#15.gcd between two numbers\n",
    "a=1071\n",
    "b=462\n",
    "while b!=0:\n",
    "    n=a%b\n",
    "    a=b\n",
    "    b=n\n",
    "print(a)\n",
    "#16.String is polindrome using a for loop\n",
    "a='civic'\n",
    "n=''\n",
    "for i in range(len(a)-1,-1,-1):\n",
    "    n=n+a[i]\n",
    "if n==a:\n",
    "    print('its a polindrome string')\n",
    "else:\n",
    "    print('its not a polindrome string')\n",
    "#17.remove duplicates from the list using a for loop\n",
    "lst=[1,1,3,2,6,4,2,2,2]\n",
    "k=[]\n",
    "for i in lst:\n",
    "    if lst.count(i)==1:\n",
    "        k.append(i)\n",
    "print(k)\n",
    "#18. count number of words in a string\n",
    "s='vishal is a good boy'\n",
    "k=s.split()\n",
    "count=0\n",
    "for i in k:\n",
    "    count=count+1\n",
    "print(count)\n",
    "#19.sum of alll odd numbers\n",
    "print(sum([i for i in range(1,51) if i%2!=0]))\n",
    "#20.\n",
    "square_root=25\n",
    "for i in range(1,9):\n",
    "    if i**2==square_root:\n",
    "        print(i)\n",
    "        break\n",
    "#21 lcm of two numbers\n",
    "# Python Program to find the L.C.M. of two input number\n",
    "\n",
    "def compute_lcm(x, y):\n",
    "\n",
    "   # choose the greater number\n",
    "    if x > y:\n",
    "        greater = x\n",
    "    else:\n",
    "        greater = y\n",
    "\n",
    "    while(True):\n",
    "        if((greater % x == 0) and (greater % y == 0)):\n",
    "            lcm = greater\n",
    "            break\n",
    "        greater += 1\n",
    "\n",
    "    return lcm\n",
    "\n",
    "num1 = 54\n",
    "num2 = 24\n",
    "\n",
    "print(\"The L.C.M. is\", compute_lcm(num1, num2))"
   ]
  },
  {
   "cell_type": "code",
   "execution_count": 1,
   "id": "a9684217",
   "metadata": {},
   "outputs": [
    {
     "name": "stdout",
     "output_type": "stream",
     "text": [
      "120\n"
     ]
    }
   ],
   "source": [
    "#recursion questions\n",
    "#1.\n",
    "def factorial(n):\n",
    "    if n==0:\n",
    "        return 1\n",
    "    else:\n",
    "        return n*factorial(n-1)\n",
    "print(factorial(5))"
   ]
  },
  {
   "cell_type": "code",
   "execution_count": 22,
   "id": "13aeb4c4",
   "metadata": {},
   "outputs": [
    {
     "name": "stdout",
     "output_type": "stream",
     "text": [
      "21\n"
     ]
    }
   ],
   "source": [
    "#6.\n",
    "def gcd(a,b):\n",
    "    if b==0:\n",
    "        return a\n",
    "    else:\n",
    "        n=a%b\n",
    "        a=b\n",
    "        b=n\n",
    "        return gcd(a,b)\n",
    "print(gcd(1071,462))"
   ]
  },
  {
   "cell_type": "code",
   "execution_count": 7,
   "id": "7895c3e1",
   "metadata": {},
   "outputs": [
    {
     "name": "stdout",
     "output_type": "stream",
     "text": [
      "6\n"
     ]
    }
   ],
   "source": [
    "#4.sum of elements in list\n",
    "lst=[1,2,3]\n",
    "\n",
    "n=len(lst)-1\n",
    "def sum1(l,k):\n",
    "    if k==0:\n",
    "        return lst[0]\n",
    "    else:\n",
    "        return lst[k]+sum1(lst,k-1)\n",
    "    \n",
    "print(sum1(lst,n))"
   ]
  },
  {
   "cell_type": "code",
   "execution_count": 11,
   "id": "94eaea28",
   "metadata": {},
   "outputs": [
    {
     "name": "stdout",
     "output_type": "stream",
     "text": [
      "napra\n"
     ]
    }
   ],
   "source": [
    "#7.reverse a string with the help of recursion\n",
    "k=\"arpan\"\n",
    "n=len(k)-1\n",
    "def reverse(k,n):\n",
    "    if n==0:\n",
    "        return k[0]\n",
    "    else:\n",
    "        return k[n]+ reverse(k,n-1)\n",
    "print(reverse(k,n))"
   ]
  },
  {
   "cell_type": "code",
   "execution_count": 13,
   "id": "c23940bb",
   "metadata": {},
   "outputs": [
    {
     "data": {
      "text/plain": [
       "125"
      ]
     },
     "execution_count": 13,
     "metadata": {},
     "output_type": "execute_result"
    }
   ],
   "source": [
    "#8 power of a numer x^n\n",
    "def power1(x,n):\n",
    "    if n==0:\n",
    "        return 1\n",
    "    else:\n",
    "        return x*power1(x,n-1)\n",
    "power1(5,3)"
   ]
  },
  {
   "cell_type": "code",
   "execution_count": 14,
   "id": "93d92b4c",
   "metadata": {},
   "outputs": [
    {
     "name": "stdout",
     "output_type": "stream",
     "text": [
      "120\n"
     ]
    }
   ],
   "source": [
    "#9.recursive Python function to find all permutations of a given string.\n",
    "word='HELLO'\n",
    "k=len(word)\n",
    "def func1(word,k):\n",
    "    if k==0:\n",
    "        return 1\n",
    "    else:\n",
    "        return k*func1(word,k-1)\n",
    "    \n",
    "print(func1(word,k))"
   ]
  },
  {
   "cell_type": "code",
   "execution_count": 17,
   "id": "f1955222",
   "metadata": {},
   "outputs": [
    {
     "name": "stdout",
     "output_type": "stream",
     "text": [
      "its a polindrome string\n"
     ]
    }
   ],
   "source": [
    "#10.string is polindrome or not please check\n",
    "word='CiviC'\n",
    "n=len(word)-1\n",
    "def polindrome_string(word,n):\n",
    "    if n==0:\n",
    "        return word[0]\n",
    "    else:\n",
    "        return word[n]+polindrome_string(word,n-1)\n",
    "if polindrome_string(word,n)==word:\n",
    "    print('its a polindrome string')\n",
    "else:\n",
    "    print('its not a polindrome string')"
   ]
  },
  {
   "cell_type": "code",
   "execution_count": 19,
   "id": "22041fdc",
   "metadata": {},
   "outputs": [
    {
     "name": "stdout",
     "output_type": "stream",
     "text": [
      "The original list is : [4, 5, 6, 7, 3, 8]\n",
      "The combinations of elements till length N : [(4,), (5,), (6,), (7,), (3,), (8,), (4, 5), (4, 6), (4, 7), (4, 3), (4, 8), (5, 6), (5, 7), (5, 3), (5, 8), (6, 7), (6, 3), (6, 8), (7, 3), (7, 8), (3, 8), (4, 5, 6), (4, 5, 7), (4, 5, 3), (4, 5, 8), (4, 6, 7), (4, 6, 3), (4, 6, 8), (4, 7, 3), (4, 7, 8), (4, 3, 8), (5, 6, 7), (5, 6, 3), (5, 6, 8), (5, 7, 3), (5, 7, 8), (5, 3, 8), (6, 7, 3), (6, 7, 8), (6, 3, 8), (7, 3, 8)]\n"
     ]
    }
   ],
   "source": [
    "#11. all possible combination of a list of elements\n",
    "# Python3 code to demonstrate working of\n",
    "# Combinations of elements till size N in list\n",
    "# Using list comprehension + combinations()\n",
    "from itertools import combinations\n",
    "\n",
    "# initializing list\n",
    "test_list = [4, 5, 6, 7, 3, 8]\n",
    "\n",
    "# printing original list\n",
    "print(\"The original list is : \" + str(test_list))\n",
    "\n",
    "# Combinations of elements till size N in list\n",
    "# Using list comprehension + combinations()\n",
    "res = [com for sub in range(3) for com in combinations(test_list, sub + 1)]\n",
    "\n",
    "# Printing result\n",
    "print(\"The combinations of elements till length N : \" + str(res))\n"
   ]
  },
  {
   "cell_type": "code",
   "execution_count": 23,
   "id": "60a572bf",
   "metadata": {},
   "outputs": [
    {
     "data": {
      "text/plain": [
       "'    Implement a base case: A base case is a condition in which the recursive function will not call itself again. ...\\n        Use an iterative approach: Instead of using recursion, you can try using an iterative approach to solve the problem.'"
      ]
     },
     "execution_count": 23,
     "metadata": {},
     "output_type": "execute_result"
    }
   ],
   "source": [
    "#5.How can you prevent a recursive function from running indefinitely, causing a stack overflow error?\n",
    "\n",
    "\n",
    "'''    Implement a base case: A base case is a condition in which the recursive function will not call itself again. ...\n",
    "        Use an iterative approach: Instead of using recursion, you can try using an iterative approach to solve the problem.'''"
   ]
  },
  {
   "cell_type": "code",
   "execution_count": 24,
   "id": "f1da959f",
   "metadata": {},
   "outputs": [
    {
     "data": {
      "text/plain": [
       "'not in the case of iteration loops generally complete over iteration in o(n) sometime o(n*n) so its very time consuming but\\nits prevent from stack overflow process and easy to code also.'"
      ]
     },
     "execution_count": 24,
     "metadata": {},
     "output_type": "execute_result"
    }
   ],
   "source": [
    "#1.recursion is different from loops because recursion uses more memory but its time complexity is sometimes o(1) but this is\n",
    "'''not in the case of iteration loops generally complete over iteration in o(n) sometime o(n*n) so its very time consuming but\n",
    "its prevent from stack overflow process and easy to code also.'''"
   ]
  },
  {
   "cell_type": "code",
   "execution_count": 28,
   "id": "de2aeeba",
   "metadata": {},
   "outputs": [
    {
     "data": {
      "text/plain": [
       "3"
      ]
     },
     "execution_count": 28,
     "metadata": {},
     "output_type": "execute_result"
    }
   ],
   "source": [
    "#3.fibonacci numbers using recursion\n",
    "def fib(n):\n",
    "    if n<=1:\n",
    "        return n\n",
    "    else:\n",
    "        return fib(n-1)+fib(n-2)\n",
    "fib(4)"
   ]
  },
  {
   "cell_type": "code",
   "execution_count": 51,
   "id": "4e645bff",
   "metadata": {},
   "outputs": [
    {
     "name": "stdout",
     "output_type": "stream",
     "text": [
      "21\n"
     ]
    }
   ],
   "source": [
    " "
   ]
  },
  {
   "cell_type": "code",
   "execution_count": null,
   "id": "a0a82ad1",
   "metadata": {},
   "outputs": [],
   "source": []
  }
 ],
 "metadata": {
  "kernelspec": {
   "display_name": "Python 3 (ipykernel)",
   "language": "python",
   "name": "python3"
  },
  "language_info": {
   "codemirror_mode": {
    "name": "ipython",
    "version": 3
   },
   "file_extension": ".py",
   "mimetype": "text/x-python",
   "name": "python",
   "nbconvert_exporter": "python",
   "pygments_lexer": "ipython3",
   "version": "3.11.4"
  }
 },
 "nbformat": 4,
 "nbformat_minor": 5
}
